{
  "nbformat": 4,
  "nbformat_minor": 0,
  "metadata": {
    "colab": {
      "name": "Aula4.ipynb",
      "provenance": [],
      "authorship_tag": "ABX9TyMo7xIELohA1tYjXGw7IAwm",
      "include_colab_link": true
    },
    "kernelspec": {
      "name": "python3",
      "display_name": "Python 3"
    }
  },
  "cells": [
    {
      "cell_type": "markdown",
      "metadata": {
        "id": "view-in-github",
        "colab_type": "text"
      },
      "source": [
        "<a href=\"https://colab.research.google.com/github/BiancaBianchi/FATEC_ROBOTICA/blob/master/Aula4.ipynb\" target=\"_parent\"><img src=\"https://colab.research.google.com/assets/colab-badge.svg\" alt=\"Open In Colab\"/></a>"
      ]
    },
    {
      "cell_type": "code",
      "metadata": {
        "id": "VuCwma5DfGWO",
        "colab_type": "code",
        "colab": {}
      },
      "source": [
        ""
      ],
      "execution_count": null,
      "outputs": []
    },
    {
      "cell_type": "markdown",
      "metadata": {
        "id": "fxr4snuQkjVt",
        "colab_type": "text"
      },
      "source": [
        "Como criar uma imagem\n"
      ]
    },
    {
      "cell_type": "code",
      "metadata": {
        "id": "edD8Ji6BkmM0",
        "colab_type": "code",
        "colab": {
          "base_uri": "https://localhost:8080/",
          "height": 34
        },
        "outputId": "f27fb66b-565b-474b-924d-9ac74986b56a"
      },
      "source": [
        "import cv2\n",
        "import numpy as np\n",
        "\n",
        "altura = 100\n",
        "largura = 100\n",
        "img = np.zeros([altura, largura, 3]) #comeca com uma matriz de zeros\n",
        "\n",
        "for py in range (0, altura):\n",
        "  for px in range (0, largura):\n",
        "    img[px][py][0]= 150 #azul\n",
        "    img[py][px][1] = 255 #verde\n",
        "    img[px][py][2] = 150 #vermelho\n",
        "\n",
        "cv2.imwrite(\"imgcolor.png\", img)"
      ],
      "execution_count": null,
      "outputs": [
        {
          "output_type": "execute_result",
          "data": {
            "text/plain": [
              "True"
            ]
          },
          "metadata": {
            "tags": []
          },
          "execution_count": 8
        }
      ]
    },
    {
      "cell_type": "code",
      "metadata": {
        "id": "fgYfdWwJkoLJ",
        "colab_type": "code",
        "colab": {
          "base_uri": "https://localhost:8080/",
          "height": 34
        },
        "outputId": "d6bd2315-ab4b-4975-f5f4-01ae01856376"
      },
      "source": [
        "import cv2\n",
        "import numpy as np\n",
        "\n",
        "altura = 10\n",
        "largura = 10\n",
        "img = np.zeros([altura, largura, 3]) #comeca com uma matriz de zeros\n",
        "\n",
        "for py in range(0,altura):\n",
        "  for px in range(0, largura):\n",
        "    if (px==py):\n",
        "      img[py][px][0]= 0 #azul\n",
        "      img[py][px][1] = 0 #verde\n",
        "      img[py][px][2] = 0 #vermelho\n",
        "    else:\n",
        "      img[py][px][0]= 0 #azul\n",
        "      img[py][px][1] = 255 #verde\n",
        "      img[py][px][2] = 0 #vermelho\n",
        "\n",
        "cv2.imwrite(\"img2.png\", img)"
      ],
      "execution_count": 14,
      "outputs": [
        {
          "output_type": "execute_result",
          "data": {
            "text/plain": [
              "True"
            ]
          },
          "metadata": {
            "tags": []
          },
          "execution_count": 14
        }
      ]
    },
    {
      "cell_type": "code",
      "metadata": {
        "id": "5AY2ulFko3gg",
        "colab_type": "code",
        "colab": {
          "base_uri": "https://localhost:8080/",
          "height": 34
        },
        "outputId": "f1ca3b77-fadc-402d-ef9c-8dfa5231accf"
      },
      "source": [
        "from IPython.display import Image\n",
        "\n",
        "filename = \"img2.png\"\n",
        "\n",
        "display(Image(filename))"
      ],
      "execution_count": null,
      "outputs": [
        {
          "output_type": "display_data",
          "data": {
            "image/png": "[encoded data removed]",
            "text/plain": [
              "<IPython.core.display.Image object>"
            ]
          },
          "metadata": {
            "tags": []
          }
        }
      ]
    },
    {
      "cell_type": "markdown",
      "metadata": {
        "id": "g9NbmhU3sVAm",
        "colab_type": "text"
      },
      "source": [
        "Mostrar a matriz da imagem\n"
      ]
    },
    {
      "cell_type": "code",
      "metadata": {
        "id": "oQd4pGQgsaCB",
        "colab_type": "code",
        "colab": {
          "base_uri": "https://localhost:8080/",
          "height": 731
        },
        "outputId": "aac766da-87b5-4ec9-e46b-1a751a681e46"
      },
      "source": [
        "import cv2\n",
        "import numpy as np\n",
        "imagem = cv2.imread(\"img2.png\")\n",
        "altura,largura,bytesPorPixel = np.shape(imagem)\n",
        "\n",
        "for index in range(2):\n",
        "  if index ==0:\n",
        "    print(\"azul\")\n",
        "  elif index == 1:\n",
        "    print(\"verde\")\n",
        "  else:\n",
        "    print(\"vermelho\")\n",
        "    \n",
        "  for py in range (0, altura):\n",
        "    for px in range(0, largura):\n",
        "      print(imagem[py][px][index],'\\t', end='')\n",
        "    print(\"\\n\")"
      ],
      "execution_count": null,
      "outputs": [
        {
          "output_type": "stream",
          "text": [
            "azul\n",
            "0 \t0 \t0 \t0 \t0 \t0 \t0 \t0 \t0 \t0 \t\n",
            "\n",
            "0 \t0 \t0 \t0 \t0 \t0 \t0 \t0 \t0 \t0 \t\n",
            "\n",
            "0 \t0 \t0 \t0 \t0 \t0 \t0 \t0 \t0 \t0 \t\n",
            "\n",
            "0 \t0 \t0 \t0 \t0 \t0 \t0 \t0 \t0 \t0 \t\n",
            "\n",
            "0 \t0 \t0 \t0 \t0 \t0 \t0 \t0 \t0 \t0 \t\n",
            "\n",
            "0 \t0 \t0 \t0 \t0 \t0 \t0 \t0 \t0 \t0 \t\n",
            "\n",
            "0 \t0 \t0 \t0 \t0 \t0 \t0 \t0 \t0 \t0 \t\n",
            "\n",
            "0 \t0 \t0 \t0 \t0 \t0 \t0 \t0 \t0 \t0 \t\n",
            "\n",
            "0 \t0 \t0 \t0 \t0 \t0 \t0 \t0 \t0 \t0 \t\n",
            "\n",
            "0 \t0 \t0 \t0 \t0 \t0 \t0 \t0 \t0 \t0 \t\n",
            "\n",
            "verde\n",
            "0 \t255 \t255 \t255 \t255 \t255 \t255 \t255 \t255 \t255 \t\n",
            "\n",
            "255 \t0 \t255 \t255 \t255 \t255 \t255 \t255 \t255 \t255 \t\n",
            "\n",
            "255 \t255 \t0 \t255 \t255 \t255 \t255 \t255 \t255 \t255 \t\n",
            "\n",
            "255 \t255 \t255 \t0 \t255 \t255 \t255 \t255 \t255 \t255 \t\n",
            "\n",
            "255 \t255 \t255 \t255 \t0 \t255 \t255 \t255 \t255 \t255 \t\n",
            "\n",
            "255 \t255 \t255 \t255 \t255 \t0 \t255 \t255 \t255 \t255 \t\n",
            "\n",
            "255 \t255 \t255 \t255 \t255 \t255 \t0 \t255 \t255 \t255 \t\n",
            "\n",
            "255 \t255 \t255 \t255 \t255 \t255 \t255 \t0 \t255 \t255 \t\n",
            "\n",
            "255 \t255 \t255 \t255 \t255 \t255 \t255 \t255 \t0 \t255 \t\n",
            "\n",
            "255 \t255 \t255 \t255 \t255 \t255 \t255 \t255 \t255 \t0 \t\n",
            "\n"
          ],
          "name": "stdout"
        }
      ]
    },
    {
      "cell_type": "markdown",
      "metadata": {
        "id": "B_d0ocUCQpjw",
        "colab_type": "text"
      },
      "source": [
        "Histograma geral"
      ]
    },
    {
      "cell_type": "code",
      "metadata": {
        "id": "RERTcHzstiYK",
        "colab_type": "code",
        "colab": {
          "base_uri": "https://localhost:8080/",
          "height": 265
        },
        "outputId": "5ffb834a-75e1-4931-d013-6a9d75fee9bb"
      },
      "source": [
        "import cv2\n",
        "import matplotlib.pylab as plt\n",
        "\n",
        "imagem = cv2.imread('img2.png')\n",
        "plt.hist(imagem.ravel(), bins = 256, range=[0,256])\n",
        "plt.show()"
      ],
      "execution_count": 7,
      "outputs": [
        {
          "output_type": "display_data",
          "data": {
            "image/png": "[encoded data removed]",
            "text/plain": [
              "<Figure size 432x288 with 1 Axes>"
            ]
          },
          "metadata": {
            "tags": [],
            "needs_background": "light"
          }
        }
      ]
    },
    {
      "cell_type": "markdown",
      "metadata": {
        "id": "dLacUI6WQs5U",
        "colab_type": "text"
      },
      "source": [
        "Histograma separado por RGB"
      ]
    },
    {
      "cell_type": "code",
      "metadata": {
        "id": "vLz0BSSLQvOk",
        "colab_type": "code",
        "colab": {
          "base_uri": "https://localhost:8080/",
          "height": 265
        },
        "outputId": "105d71d1-1754-4ead-d34c-8d8e3a7b7e41"
      },
      "source": [
        "import cv2\n",
        "import matplotlib.pylab as plt\n",
        "image = cv2.imread('img2.png')\n",
        "color = ('b','g','r')\n",
        "for i, col in enumerate(color):\n",
        "  histr = cv2.calcHist([image],[i],None,[256],[0,256])\n",
        "  plt.plot(histr,color = col)\n",
        "  plt.xlim([0,256])\n",
        "plt.show()"
      ],
      "execution_count": 9,
      "outputs": [
        {
          "output_type": "display_data",
          "data": {
            "image/png": "[encoded data removed]",
            "text/plain": [
              "<Figure size 432x288 with 1 Axes>"
            ]
          },
          "metadata": {
            "tags": [],
            "needs_background": "light"
          }
        }
      ]
    },
    {
      "cell_type": "markdown",
      "metadata": {
        "id": "FwQlTV-8Q9Up",
        "colab_type": "text"
      },
      "source": [
        "imagem em tons de azul\n"
      ]
    },
    {
      "cell_type": "code",
      "metadata": {
        "id": "pR3K-Pz3RUaC",
        "colab_type": "code",
        "colab": {
          "base_uri": "https://localhost:8080/",
          "height": 34
        },
        "outputId": "1c7d8753-7f96-4d85-8322-49690e6e43ec"
      },
      "source": [
        "import cv2\n",
        "import numpy as np\n",
        "\n",
        "imagem = cv2.imread('flor-de-lotus-na-cor-azul.jpg')\n",
        "altura, largura, bytesPorPixel = np.shape(imagem)\n",
        "img = np.zeros([altura,largura,3])\n",
        "\n",
        "for py in range(0, altura):\n",
        "  for px in range(0, largura):\n",
        "    img[py][px][0] = imagem[py][px][0] # cor azul\n",
        "    img[py][px][1] = 0 # cor verde\n",
        "    img[py][px][2] = 0 # cor vermelho\n",
        "\n",
        "cv2.imwrite(\"flor-de-lotus-na-cor-azul_blue.jpg\", img )"
      ],
      "execution_count": 17,
      "outputs": [
        {
          "output_type": "execute_result",
          "data": {
            "text/plain": [
              "True"
            ]
          },
          "metadata": {
            "tags": []
          },
          "execution_count": 17
        }
      ]
    },
    {
      "cell_type": "markdown",
      "metadata": {
        "id": "F4AGd2VUS5Y2",
        "colab_type": "text"
      },
      "source": [
        "imagem em escalas de cinza"
      ]
    },
    {
      "cell_type": "code",
      "metadata": {
        "id": "Z_qNJrYGS8gT",
        "colab_type": "code",
        "colab": {
          "base_uri": "https://localhost:8080/",
          "height": 34
        },
        "outputId": "169778dc-386e-4257-c6bf-9b71c3cf145e"
      },
      "source": [
        "import cv2\n",
        "import numpy as np\n",
        "\n",
        "imagem = cv2.imread('flor-de-lotus-na-cor-azul.jpg')\n",
        "altura, largura, bytesPorPixel = np.shape(imagem)\n",
        "img = np.zeros([altura,largura,3])\n",
        "\n",
        "for py in range(0, altura):\n",
        "  for px in range(0, largura):\n",
        "    img[py][px][0] = imagem[py][px][0] # cor azul\n",
        "    img[py][px][1] = imagem[py][px][0] # cor verde\n",
        "    img[py][px][2] = imagem[py][px][0] # cor vermelho\n",
        "cv2.imwrite(\"flor-de-lotus-na-cor-azul_blue_gray.jpg\", img )"
      ],
      "execution_count": 18,
      "outputs": [
        {
          "output_type": "execute_result",
          "data": {
            "text/plain": [
              "True"
            ]
          },
          "metadata": {
            "tags": []
          },
          "execution_count": 18
        }
      ]
    },
    {
      "cell_type": "markdown",
      "metadata": {
        "id": "rnQ2_aYkTMsn",
        "colab_type": "text"
      },
      "source": [
        "com open cv\n"
      ]
    },
    {
      "cell_type": "code",
      "metadata": {
        "id": "QeoxccqlTPIw",
        "colab_type": "code",
        "colab": {
          "base_uri": "https://localhost:8080/",
          "height": 34
        },
        "outputId": "940761e7-a501-4d20-b8a2-57582368f8ce"
      },
      "source": [
        "import cv2\n",
        "import numpy as np\n",
        "\n",
        "imagem = cv2.imread(\"img2.png\")\n",
        "gray = cv2.cvtColor(imagem, cv2.COLOR_BGR2GRAY)\n",
        "cv2.imwrite('color_img_grayscale.png', gray)"
      ],
      "execution_count": 20,
      "outputs": [
        {
          "output_type": "execute_result",
          "data": {
            "text/plain": [
              "True"
            ]
          },
          "metadata": {
            "tags": []
          },
          "execution_count": 20
        }
      ]
    },
    {
      "cell_type": "markdown",
      "metadata": {
        "id": "V2k_yP4KTXa1",
        "colab_type": "text"
      },
      "source": [
        "Histograma separado por Grayscale"
      ]
    },
    {
      "cell_type": "code",
      "metadata": {
        "id": "1qZkUYmQTYNd",
        "colab_type": "code",
        "colab": {
          "base_uri": "https://localhost:8080/",
          "height": 265
        },
        "outputId": "e9fd8c9a-fad0-4c6b-9ad1-3180351a1877"
      },
      "source": [
        "import cv2\n",
        "import matplotlib.pylab as plt\n",
        "image = cv2.imread('flor-de-lotus-na-cor-azul_blue_gray.jpg')\n",
        "color = ('b','g','r')\n",
        "for i, col in enumerate(color):\n",
        "  histr = cv2.calcHist([image],[i],None,[256],[0,256])\n",
        "  plt.plot(histr,color = col)\n",
        "  plt.xlim([0,256])\n",
        "plt.show()"
      ],
      "execution_count": 22,
      "outputs": [
        {
          "output_type": "display_data",
          "data": {
            "image/png": "[encoded data removed]",
            "text/plain": [
              "<Figure size 432x288 with 1 Axes>"
            ]
          },
          "metadata": {
            "tags": [],
            "needs_background": "light"
          }
        }
      ]
    }
  ]
}