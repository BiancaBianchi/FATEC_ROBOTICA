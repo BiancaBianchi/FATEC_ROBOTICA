{
  "nbformat": 4,
  "nbformat_minor": 0,
  "metadata": {
    "colab": {
      "name": "detecção de contornos.ipynb",
      "provenance": [],
      "authorship_tag": "ABX9TyN3c1do4NvhSZ6HcXUeYSZw",
      "include_colab_link": true
    },
    "kernelspec": {
      "name": "python3",
      "display_name": "Python 3"
    }
  },
  "cells": [
    {
      "cell_type": "markdown",
      "metadata": {
        "id": "view-in-github",
        "colab_type": "text"
      },
      "source": [
        "<a href=\"https://colab.research.google.com/github/BiancaBianchi/FATEC_ROBOTICA/blob/master/detec%C3%A7%C3%A3o_de_contornos.ipynb\" target=\"_parent\"><img src=\"https://colab.research.google.com/assets/colab-badge.svg\" alt=\"Open In Colab\"/></a>"
      ]
    },
    {
      "cell_type": "code",
      "metadata": {
        "id": "1EwFU9nvXg6v",
        "colab_type": "code",
        "colab": {
          "base_uri": "https://localhost:8080/",
          "height": 34
        },
        "outputId": "45a74fb9-278b-4f0e-ad31-0f0c9a35c4ea"
      },
      "source": [
        "import cv2\n",
        "import numpy as np\n",
        "import matplotlib.pyplot as plt\n",
        "\n",
        "#para cinza\n",
        "imagem = cv2.imread(\"circulos.jpg\")\n",
        "gray = cv2.cvtColor(imagem, cv2.COLOR_BGR2GRAY)\n",
        "cv2.imwrite(\"circulos_gary.png\", gray)\n",
        "blur= cv2.GaussianBlur(gray, (9,9), 0)\n",
        "dges= cv2.Canny(blur,20,100)\n",
        "cv2.imwrite(\"contorno.jpg\", dges)"
      ],
      "execution_count": 1,
      "outputs": [
        {
          "output_type": "execute_result",
          "data": {
            "text/plain": [
              "True"
            ]
          },
          "metadata": {
            "tags": []
          },
          "execution_count": 1
        }
      ]
    },
    {
      "cell_type": "markdown",
      "metadata": {
        "id": "_FCl35wZcHNa",
        "colab_type": "text"
      },
      "source": [
        ""
      ]
    }
  ]
}