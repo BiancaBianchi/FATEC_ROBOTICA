{
  "nbformat": 4,
  "nbformat_minor": 0,
  "metadata": {
    "colab": {
      "name": "Testes_com_Rede_Neural_FAtiv.ipynb",
      "provenance": [],
      "authorship_tag": "ABX9TyOooOIKLdfWfyTwmeR61jky",
      "include_colab_link": true
    },
    "kernelspec": {
      "name": "python3",
      "display_name": "Python 3"
    }
  },
  "cells": [
    {
      "cell_type": "markdown",
      "metadata": {
        "id": "view-in-github",
        "colab_type": "text"
      },
      "source": [
        "<a href=\"https://colab.research.google.com/github/BiancaBianchi/FATEC_ROBOTICA/blob/master/Testes_com_Rede_Neural_FAtiv.ipynb\" target=\"_parent\"><img src=\"https://colab.research.google.com/assets/colab-badge.svg\" alt=\"Open In Colab\"/></a>"
      ]
    },
    {
      "cell_type": "code",
      "metadata": {
        "id": "lHLzE287cVPA",
        "outputId": "7d8f27b9-2d99-4213-a283-7f814be225d7",
        "colab": {
          "base_uri": "https://localhost:8080/",
          "height": 34
        }
      },
      "source": [
        "import numpy as np\n",
        "import math\n",
        "\n",
        "def calculo_z(lista_w, lista_x):\n",
        "  tamanho = len (lista_w)\n",
        "  z = 0\n",
        "  for x in range (0, tamanho):\n",
        "    z = z + lista_w[x]*lista_x[x]\n",
        "  return z\n",
        "\n",
        "def linear (z):\n",
        "  return z\n",
        "\n",
        "def signoidal(z):\n",
        "  s = 1/ (1 + math.exp(-x))\n",
        "  return s\n",
        "\n",
        "def degrau(z):\n",
        "  if (z >= thres):\n",
        "    s = 1\n",
        "  else:\n",
        "    s = 0\n",
        "  return s\n",
        "\n",
        "def gaussiana(z, sigma, phi):\n",
        "  s = 1 /(2**0.5 * math.pi) * 1 /sigma * math.exp(-1/2 *((z-phi)/sigma)**2)\n",
        "  return s\n",
        "\n",
        "lista_w = [1, 1, 1]\n",
        "lista_x = [1, 1, 1]\n",
        "\n",
        "valor_z = calculo_z(lista_w, lista_x)\n",
        "print(valor_z)"
      ],
      "execution_count": 5,
      "outputs": [
        {
          "output_type": "stream",
          "text": [
            "3\n"
          ],
          "name": "stdout"
        }
      ]
    }
  ]
}