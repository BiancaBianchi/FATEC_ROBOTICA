{
  "nbformat": 4,
  "nbformat_minor": 0,
  "metadata": {
    "colab": {
      "name": "Aula 5_segmentacao.ipynb",
      "provenance": [],
      "authorship_tag": "ABX9TyMWLmyrIUWUFt+uRybAENvK",
      "include_colab_link": true
    },
    "kernelspec": {
      "name": "python3",
      "display_name": "Python 3"
    }
  },
  "cells": [
    {
      "cell_type": "markdown",
      "metadata": {
        "id": "view-in-github",
        "colab_type": "text"
      },
      "source": [
        "<a href=\"https://colab.research.google.com/github/BiancaBianchi/FATEC_ROBOTICA/blob/master/Aula_5_segmentacao.ipynb\" target=\"_parent\"><img src=\"https://colab.research.google.com/assets/colab-badge.svg\" alt=\"Open In Colab\"/></a>"
      ]
    },
    {
      "cell_type": "markdown",
      "metadata": {
        "id": "DYR89-pXV2VV",
        "colab_type": "text"
      },
      "source": [
        "Converter em tons de cinza e segmentar a imagem, com histograma e depois salvar em imagem."
      ]
    },
    {
      "cell_type": "code",
      "metadata": {
        "id": "xiuwRNJhV_wD",
        "colab_type": "code",
        "colab": {
          "base_uri": "https://localhost:8080/",
          "height": 282
        },
        "outputId": "b932a56f-3e13-4b05-f8f3-2442b8bf9b53"
      },
      "source": [
        "import cv2\n",
        "import numpy as np\n",
        "import matplotlib.pyplot as plt\n",
        "\n",
        "#para cinza\n",
        "imagem = cv2.imread(\"flor.jpg\")\n",
        "gray = cv2.cvtColor(imagem, cv2.COLOR_BGR2GRAY)\n",
        "cv2.imwrite(\"flor_gray.png\", gray)\n",
        "\n",
        "#segmentando a imagem\n",
        "img = cv2.imread(\"flor_gray.png\", 0)\n",
        "ret,thresh1 = cv2.threshold(img,127,255,cv2.THRESH_BINARY)\n",
        "\n",
        "#criando o histograma\n",
        "histr= cv2.calcHist([thresh1], [0], None, [256], [0,256])\n",
        "plt.plot(histr,color=(0,0,0))\n",
        "plt.xlim([0,256])\n",
        "plt.show()\n",
        "\n",
        "#salvar\n",
        "cv2.imwrite(\"florbinary.jpg\", thresh1)"
      ],
      "execution_count": 3,
      "outputs": [
        {
          "output_type": "display_data",
          "data": {
            "image/png": "[encoded data removed]",
            "text/plain": [
              "<Figure size 432x288 with 1 Axes>"
            ]
          },
          "metadata": {
            "tags": [],
            "needs_background": "light"
          }
        },
        {
          "output_type": "execute_result",
          "data": {
            "text/plain": [
              "True"
            ]
          },
          "metadata": {
            "tags": []
          },
          "execution_count": 3
        }
      ]
    }
  ]
}