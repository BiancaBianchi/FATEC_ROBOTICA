{
  "nbformat": 4,
  "nbformat_minor": 0,
  "metadata": {
    "colab": {
      "name": "Rede_Neural1 - Funcoes de ativacao.ipynb",
      "provenance": [],
      "authorship_tag": "ABX9TyPlNkvStXwmHGyd4FAW/B3b",
      "include_colab_link": true
    },
    "kernelspec": {
      "name": "python3",
      "display_name": "Python 3"
    }
  },
  "cells": [
    {
      "cell_type": "markdown",
      "metadata": {
        "id": "view-in-github",
        "colab_type": "text"
      },
      "source": [
        "<a href=\"https://colab.research.google.com/github/BiancaBianchi/FATEC_ROBOTICA/blob/master/Rede_Neural1_Funcoes_de_ativacao.ipynb\" target=\"_parent\"><img src=\"https://colab.research.google.com/assets/colab-badge.svg\" alt=\"Open In Colab\"/></a>"
      ]
    },
    {
      "cell_type": "code",
      "metadata": {
        "id": "l1aGFqRwH1NS",
        "outputId": "ca2c1dc3-9009-4c52-b236-5cbc4f1c3f3d",
        "colab": {
          "base_uri": "https://localhost:8080/",
          "height": 34
        }
      },
      "source": [
        "\"#Porta não\n",
        "\n",
        "import numpy as np\n",
        "def calculo_z(lista_w, lista_x):\n",
        "  tamanho = len(lista_w)\n",
        "  z= 0\n",
        "  for index in range( 0, tamanho):\n",
        "    z= z+ lista_w[index]* lista_x[index]\n",
        "  return z\n",
        "\n",
        "def f_ativ_indetidade(z):\n",
        "  return z\n",
        "  \n",
        "lista_w= [1,-1]\n",
        "lista_x= [1, 1]\n",
        "valor = calculo_z(lista_w,lista_x)\n",
        "print(valor, end=\"\\n\")"
      ],
      "execution_count": 1,
      "outputs": [
        {
          "output_type": "stream",
          "text": [
            "0\n"
          ],
          "name": "stdout"
        }
      ]
    },
    {
      "cell_type": "code",
      "metadata": {
        "id": "_xKpigd4XeTT",
        "outputId": "c4eaa3d2-2644-423e-aa8c-317d1472bbbd",
        "colab": {
          "base_uri": "https://localhost:8080/",
          "height": 34
        }
      },
      "source": [
        "#Porta e\n",
        "\n",
        "import numpy as np\n",
        "def calculo_z(lista_w, lista_x):\n",
        "  tamanho = len(lista_w)\n",
        "  z= 0\n",
        "  for index in range( 0, tamanho):\n",
        "    z= z+ lista_w[index]* lista_x[index]\n",
        "  return z\n",
        "  \n",
        "def funcao_degrau(z, thres):\n",
        "  if (z>=thres):\n",
        "    s=1\n",
        "  else:\n",
        "    s= 0\n",
        "  return s\n",
        "\n",
        "lista_w= [1, 1, 1]\n",
        "lista_x= [1, 0, 1]\n",
        "valor = calculo_z(lista_w,lista_x)\n",
        "valor = funcao_degrau(valor, 2)\n",
        "print(valor, end=\"\\n\")"
      ],
      "execution_count": 5,
      "outputs": [
        {
          "output_type": "stream",
          "text": [
            "1\n"
          ],
          "name": "stdout"
        }
      ]
    }
  ]
}