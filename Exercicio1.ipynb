{
  "nbformat": 4,
  "nbformat_minor": 0,
  "metadata": {
    "colab": {
      "name": "Exercicio1.ipynb",
      "provenance": [],
      "authorship_tag": "ABX9TyPiP+qbnkX2h444xMWtw0o/",
      "include_colab_link": true
    },
    "kernelspec": {
      "name": "python3",
      "display_name": "Python 3"
    }
  },
  "cells": [
    {
      "cell_type": "markdown",
      "metadata": {
        "id": "view-in-github",
        "colab_type": "text"
      },
      "source": [
        "<a href=\"https://colab.research.google.com/github/BiancaBianchi/FATEC_ROBOTICA/blob/master/Exercicio1.ipynb\" target=\"_parent\"><img src=\"https://colab.research.google.com/assets/colab-badge.svg\" alt=\"Open In Colab\"/></a>"
      ]
    },
    {
      "cell_type": "code",
      "metadata": {
        "id": "m4HKbOHGHaJM",
        "colab_type": "code",
        "colab": {
          "base_uri": "https://localhost:8080/",
          "height": 578
        },
        "outputId": "e9fc2bf1-903e-4979-9f30-b85c79bed43d"
      },
      "source": [
        "import numpy as np\n",
        "import cv2\n",
        "from matplotlib import pyplot as plt\n",
        "\n",
        "imagem = cv2.imread(\"flor.jpg\")\n",
        "nova_imagem = cv2.cvtColor(imagem,\n",
        "cv2.COLOR_BGR2GRAY)\n",
        "histogram = cv2.calcHist([imagem],[0],None,[256],[0,256])\n",
        "histogram_derivative = [0]*254\n",
        "for i in range (0,253):\n",
        "  pto_mais = histogram[i+1] - histogram[i]\n",
        "  pto_menos = histogram[i+2] - histogram[i+1]\n",
        "  if (( pto_mais>0 ) and (pto_menos<0 )) and (pto_mais >100):\n",
        "    print ( int(i+1),\"\\t\",int(pto_mais),\"\\t\", int(pto_menos) ,end =\"\\n\") "
      ],
      "execution_count": 1,
      "outputs": [
        {
          "output_type": "stream",
          "text": [
            "9 \t 660 \t -248\n",
            "16 \t 1358 \t -1284\n",
            "18 \t 784 \t -1191\n",
            "20 \t 438 \t -56\n",
            "30 \t 177 \t -113\n",
            "35 \t 169 \t -18\n",
            "39 \t 260 \t -149\n",
            "46 \t 292 \t -373\n",
            "48 \t 256 \t -125\n",
            "50 \t 311 \t -30\n",
            "56 \t 246 \t -18\n",
            "60 \t 429 \t -140\n",
            "65 \t 528 \t -1107\n",
            "67 \t 519 \t -1124\n",
            "69 \t 1145 \t -1310\n",
            "74 \t 464 \t -774\n",
            "76 \t 504 \t -880\n",
            "79 \t 115 \t -359\n",
            "82 \t 303 \t -983\n",
            "89 \t 101 \t -83\n",
            "95 \t 607 \t -729\n",
            "98 \t 249 \t -304\n",
            "103 \t 157 \t -273\n",
            "124 \t 135 \t -53\n",
            "129 \t 119 \t -33\n",
            "131 \t 353 \t -109\n",
            "135 \t 161 \t -240\n",
            "152 \t 117 \t -152\n",
            "158 \t 162 \t -95\n",
            "170 \t 162 \t -184\n",
            "194 \t 131 \t -101\n",
            "196 \t 163 \t -35\n",
            "207 \t 102 \t -9\n"
          ],
          "name": "stdout"
        }
      ]
    },
    {
      "cell_type": "code",
      "metadata": {
        "id": "uw7GzXjvHqzn",
        "colab_type": "code",
        "colab": {}
      },
      "source": [
        ""
      ],
      "execution_count": null,
      "outputs": []
    }
  ]
}