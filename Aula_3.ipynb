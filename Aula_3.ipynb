{
  "nbformat": 4,
  "nbformat_minor": 0,
  "metadata": {
    "colab": {
      "name": "Aula 3.ipynb",
      "provenance": [],
      "authorship_tag": "ABX9TyOrFqU/0DW4zvDa+UE5lnPq",
      "include_colab_link": true
    },
    "kernelspec": {
      "name": "python3",
      "display_name": "Python 3"
    }
  },
  "cells": [
    {
      "cell_type": "markdown",
      "metadata": {
        "id": "view-in-github",
        "colab_type": "text"
      },
      "source": [
        "<a href=\"https://colab.research.google.com/github/BiancaBianchi/FATEC_ROBOTICA/blob/master/Aula_3.ipynb\" target=\"_parent\"><img src=\"https://colab.research.google.com/assets/colab-badge.svg\" alt=\"Open In Colab\"/></a>"
      ]
    },
    {
      "cell_type": "code",
      "metadata": {
        "id": "zyNJ1h6_f0bi",
        "colab_type": "code",
        "colab": {}
      },
      "source": [
        ""
      ],
      "execution_count": null,
      "outputs": []
    },
    {
      "cell_type": "markdown",
      "metadata": {
        "id": "UK6BLgEqijmC",
        "colab_type": "text"
      },
      "source": [
        "Aula 3 - Revisão de Python\n"
      ]
    },
    {
      "cell_type": "code",
      "metadata": {
        "id": "y7iN87AQip1G",
        "colab_type": "code",
        "colab": {
          "base_uri": "https://localhost:8080/",
          "height": 34
        },
        "outputId": "d8182dc2-4dbc-48b1-868b-567d8291d690"
      },
      "source": [
        "L = [1, 2, 3, 'a', \"OI\"]\n",
        "print(L[0])"
      ],
      "execution_count": 1,
      "outputs": [
        {
          "output_type": "stream",
          "text": [
            "1\n"
          ],
          "name": "stdout"
        }
      ]
    },
    {
      "cell_type": "markdown",
      "metadata": {
        "id": "LYAjxoHStoI6",
        "colab_type": "text"
      },
      "source": [
        "Exercício 1\n"
      ]
    },
    {
      "cell_type": "code",
      "metadata": {
        "id": "HJaaybvWttQP",
        "colab_type": "code",
        "colab": {
          "base_uri": "https://localhost:8080/",
          "height": 119
        },
        "outputId": "e665b53e-ea5b-422c-b776-59d7e318f191"
      },
      "source": [
        "L = [5,7,2,9,4,1,3]\n",
        "print(len(L)) #tamanho da lista\n",
        "print(max(L)) #maximo\n",
        "print(min(L)) #minimo\n",
        "print(sum(L)) #soma de todos\n",
        "L.sort() #ordem crescente\n",
        "print(L)\n",
        "L.reverse() #ordem decrescente\n",
        "print(L)"
      ],
      "execution_count": 30,
      "outputs": [
        {
          "output_type": "stream",
          "text": [
            "7\n",
            "9\n",
            "1\n",
            "31\n",
            "[1, 2, 3, 4, 5, 7, 9]\n",
            "[9, 7, 5, 4, 3, 2, 1]\n"
          ],
          "name": "stdout"
        }
      ]
    },
    {
      "cell_type": "markdown",
      "metadata": {
        "id": "kJO0qTB0u585",
        "colab_type": "text"
      },
      "source": [
        "Exercício 2\n"
      ]
    },
    {
      "cell_type": "code",
      "metadata": {
        "id": "Niady4Bcu7ho",
        "colab_type": "code",
        "colab": {
          "base_uri": "https://localhost:8080/",
          "height": 68
        },
        "outputId": "b38971ff-f32a-4423-bab0-d983f8da7d55"
      },
      "source": [
        "import math\n",
        "\n",
        "x = int(input())\n",
        "y = int(input())\n",
        "z = (x**2) + (y**2)\n",
        "x = (x - y)**2\n",
        "z = z * x\n",
        "print (z)\n"
      ],
      "execution_count": 20,
      "outputs": [
        {
          "output_type": "stream",
          "text": [
            "1\n",
            "2\n",
            "5\n"
          ],
          "name": "stdout"
        }
      ]
    }
  ]
}