{
  "nbformat": 4,
  "nbformat_minor": 0,
  "metadata": {
    "colab": {
      "name": "rede neural_testes e exercicios.ipynb",
      "provenance": [],
      "authorship_tag": "ABX9TyMXYwshBGSyHautbAO1xOHi",
      "include_colab_link": true
    },
    "kernelspec": {
      "name": "python3",
      "display_name": "Python 3"
    }
  },
  "cells": [
    {
      "cell_type": "markdown",
      "metadata": {
        "id": "view-in-github",
        "colab_type": "text"
      },
      "source": [
        "<a href=\"https://colab.research.google.com/github/BiancaBianchi/FATEC_ROBOTICA/blob/master/rede_neural_testes_e_exercicios.ipynb\" target=\"_parent\"><img src=\"https://colab.research.google.com/assets/colab-badge.svg\" alt=\"Open In Colab\"/></a>"
      ]
    },
    {
      "cell_type": "markdown",
      "metadata": {
        "id": "3v-nJaid6iP7"
      },
      "source": [
        "Exercicio 15/10 -  Implementar os calculos da rede neural\n"
      ]
    },
    {
      "cell_type": "code",
      "metadata": {
        "id": "yoV8ZT9q6ZCP"
      },
      "source": [
        "import math\n",
        "\n",
        "def Somatoria( w, x ):\n",
        "  s = 0\n",
        "  for index in range (0, len(w)):\n",
        "    s = s + w[index]*x[index]\n",
        "  return s\n",
        "\n",
        "def Sigmoid ( z ):\n",
        "  s = 1 / (1 + math.exp(-z))\n",
        "  return s\n",
        "\n",
        "def ErroTotal (y,y_calc):\n",
        "  erro = 0\n",
        "  for index in range (0, len(y)):\n",
        "    erro = erro + 1/2 * (y[index] - y_calc[index])**2\n",
        "  return erro\n",
        "\n",
        "def correcao(peso, aprendizagem, erro):\n",
        "  peso = peso - aprendizagem * erro\n",
        "  return peso\n",
        "\n",
        "x = [1,0.05,0.1]\n",
        "y = [0.01,0.99]\n",
        "\n",
        "aprendizagem = 0.5\n",
        "\n",
        "n1_w = [ 0.35, 0.15, 0.2]\n",
        "n2_w = [ 0.35, 0.25, 0.3]\n",
        "n3_w = [ 0.6, 0.4, 0.45]\n",
        "n4_w = [ 0.6, 0.5, 0.55]\n",
        "\n",
        "print (\"Valor inicial n1_w[1]: \",n1_w[1],end='\\n')\n",
        "print (\"Valor inicial n1_w[2]: \",n1_w[2],end='\\n')\n",
        "print (\"Valor inicial n2_w[1]: \",n2_w[1],end='\\n')\n",
        "print (\"Valor inicial n2_w[2]: \",n2_w[2],end='\\n')\n",
        "print (\"Valor inicial n3_w[1]: \",n3_w[1],end='\\n')\n",
        "print (\"Valor inicial n3_w[2]: \",n3_w[2],end='\\n')\n",
        "print (\"Valor inicial n4_w[1]: \",n4_w[1],end='\\n')\n",
        "print (\"Valor inicial n4_w[2]: \",n4_w[2],end='\\n')\n",
        "\n",
        "for tentativas in range(0,1):\n",
        "  n1_z = Somatoria(n1_w, x)\n",
        "  n1_y = Sigmoid ( n1_z )\n",
        "  print (\"n1_z: \", n1_z,end='\\n')\n",
        "  print (\"n1_y: \", n1_y,end='\\n')\n",
        "  n2_z = Somatoria(n2_w, x)\n",
        "  n2_y = Sigmoid ( n2_z )\n",
        "  print (\"n2_z: \", n2_z,end='\\n')\n",
        "  print (\"n2_y: \", n2_y,end='\\n')\n",
        "  n3_x = [ 1, n1_y, n2_y ]\n",
        "  n3_z = Somatoria(n3_w, n3_x)\n",
        "  n3_y = Sigmoid ( n3_z )\n",
        "  print (\"n3_z: \", n3_z,end='\\n')\n",
        "  print (\"n3_y: \", n3_y,end='\\n')\n",
        "  n4_x = [ 1, n1_y, n2_y ]\n",
        "  n4_z = Somatoria(n4_w, n4_x)\n",
        "  n4_y = Sigmoid ( n4_z )\n",
        "  print (\"n4_z: \", n4_z,end='\\n')\n",
        "  print (\"n4_y: \", n4_y,end='\\n')\n",
        "  y_calc = [n3_y, n4_y]\n",
        "  erroTotal = ErroTotal(y,y_calc)\n",
        "  print(\"ErroTotal: \",erroTotal,end='\\n')\n",
        "  print(\"######Correcao de saida n3w1\")\n",
        "  erroTotal_n3y = -(y[0]-y_calc[0])\n",
        "  print (\"erroTotal_n3y: \",erroTotal_n3y,end='\\n')\n",
        "  delta_n3y_n3z = y_calc[0]*(1 - y_calc[0])\n",
        "  print (\"delta_n3y_n3z: \",delta_n3y_n3z,end='\\n')\n",
        "  delta_n3z_n3w1 = n1_y\n",
        "  print (\"delta_n3z_n3w1: \",delta_n3z_n3w1,end='\\n')\n",
        "  erroTotal_n3y_n3_z =erroTotal_n3y*delta_n3y_n3z\n",
        "  print (\"erroTotal_n3y_n3_z: \",erroTotal_n3y_n3_z,end='\\n')\n",
        "  erroTotal_n3w1 = erroTotal_n3y * delta_n3y_n3z * delta_n3z_n3w1\n",
        "  print (\"erroTotal_n3w1: \",erroTotal_n3w1,end='\\n')\n",
        "  print(\"######Correcao de saida n3w2\")\n",
        "  delta_n3z_n3w2 = n2_y\n",
        "  print (\"delta_n3z_n3w2: \",delta_n3z_n3w2,end='\\n')\n",
        "  erroTotal_n3w2 = erroTotal_n3y * delta_n3y_n3z * delta_n3z_n3w2\n",
        "  print (\"erroTotal_n3w2: \",erroTotal_n3w2,end='\\n')\n",
        "  print(\"######Correcao de saida n4w1\")\n",
        "  erroTotal_n4y = -(y[1]-y_calc[1])\n",
        "  print (\"erroTotal_n4y: \",erroTotal_n4y,end='\\n')\n",
        "  delta_n4y_n4z = y_calc[1]*(1 - y_calc[1])\n",
        "  print (\"delta_n4y_n4z: \",delta_n4y_n4z,end='\\n')\n",
        "  delta_n4z_n4w1 = n1_y\n",
        "  print (\"delta_n4z_n4w1: \",delta_n4z_n4w1,end='\\n')\n",
        "  erroTotal_n4w1 = erroTotal_n4y * delta_n4y_n4z * delta_n4z_n4w1\n",
        "  print (\"erroTotal_n4w1: \",erroTotal_n4w1,end='\\n')\n",
        "  print(\"Correcao de saida n4w2\")\n",
        "  delta_n4z_n4w2 = n2_y\n",
        "  erroTotal_n4w2 = erroTotal_n4y * delta_n4y_n4z * delta_n4z_n4w2\n",
        "  print (\"erroTotal_n4w2: \",erroTotal_n4w2,end='\\n')\n",
        "  print(\"######Correcao de saida n1w1\")\n",
        "  delta_n3_z_n1_y = n3_w[1]\n",
        "  delta_erro_n3_y_n1_y = erroTotal_n3y_n3_z * delta_n3_z_n1_y\n",
        "  print (\"delta_erro_n3_y_n1_y: \",delta_erro_n3_y_n1_y,end='\\n')\n",
        "  delta_n1y_n1z = n1_y*(1 - n1_y)\n",
        "  delta_n1z_n1w = x[1]\n",
        "  erroTotal_n1w1 = erroTotal_n3w1 * delta_n1y_n1z * delta_n1z_n1w\n",
        "  print (\"erroTotal_n1w1: \",erroTotal_n1w1,end='\\n')\n",
        "  print(\"######Correcao de saida n1w2\")\n",
        "  delta_n1y_n1z = n1_y*(1 - n1_y)\n",
        "  delta_n1z_n2w = x[2]\n",
        "  erroTotal_n1w2 = erroTotal_n3w1 * delta_n1y_n1z * delta_n1z_n2w\n",
        "  print (\"erroTotal_n1w2: \",erroTotal_n1w2,end='\\n')\n",
        "  print(\"######Correcao de saida n2w1\")\n",
        "  delta_n3_z_n2_y = n3_w[2]\n",
        "  print (\"delta_n3_z_n2_y: \",delta_n3_z_n2_y,end='\\n')\n",
        "  delta_erro_n3_y_n3_z = erroTotal_n3y_n3_z\n",
        "  print (\"delta_erro_n3_y_n3_z: \",delta_erro_n3_y_n3_z,end='\\n')\n",
        "  delta_erro_n3_y_n2_y = delta_erro_n3_y_n3_z * delta_n3_z_n2_y\n",
        "  print (\"delta_erro_n3_y_n2_y: \",delta_erro_n3_y_n2_y,end='\\n')\n",
        "  delta_n4_z_n2_y = n4_w[2]\n",
        "  print (\"delta_n4_z_n2_y: \",delta_n4_z_n2_y,end='\\n')\n",
        "  delta_n2y_n2z = n2_y*(1 - n2_y)\n",
        "  print (\"delta_n2y_n2z: \",delta_n2y_n2z,end='\\n')\n",
        "  delta_n4z_n2w = x[1]\n",
        "  print (\"delta_n4z_n2w: \",delta_n4z_n2w,end='\\n')\n",
        "  erroTotal_n2w1 = erroTotal_n4w1 * delta_n2y_n2z * delta_n4z_n2w\n",
        "  print (\"erroTotal_n2w1: \",erroTotal_n2w1,end='\\n')\n",
        "  print(\"######Correcao de saida n2w2\")\n",
        "  delta_n2y_n2z = n2_y*(1 - n2_y)\n",
        "  delta_n2z_n2w = x[2]\n",
        "  erroTotal_n2w2 = erroTotal_n4w2 * delta_n2y_n2z * delta_n2z_n2w\n",
        "  print (\"erroTotal_n2w2: \",erroTotal_n2w2,end='\\n')\n",
        "  n1_w[1] = correcao(n1_w[1], aprendizagem, erroTotal_n1w1 )\n",
        "  #print (\"Novo n1_w[1]: \",n1_w[1],end='\\n')\n",
        "  n1_w[2] = correcao(n1_w[2], aprendizagem, erroTotal_n1w2 )\n",
        "  #print (\"Novo n1_w[2]: \",n1_w[2],end='\\n')\n",
        "  n2_w[1] = correcao(n2_w[1], aprendizagem, erroTotal_n2w1 )\n",
        "  #print (\"Novo n2_w[1]: \",n2_w[1],end='\\n')\n",
        "  n2_w[2] = correcao(n2_w[2], aprendizagem, erroTotal_n2w2 )\n",
        "  #print (\"Novo n2_w[2]: \",n2_w[2],end='\\n')\n",
        "  n3_w[1] = correcao(n3_w[1], aprendizagem, erroTotal_n3w1 )\n",
        "  #print (\"Novo n3_w[1]: \",n3_w[1],end='\\n')\n",
        "  n3_w[2] = correcao(n3_w[2], aprendizagem, erroTotal_n3w2 )\n",
        "  #print (\"Novo n3_w[2]: \",n3_w[2],end='\\n')\n",
        "  n4_w[1] = correcao(n4_w[1], aprendizagem, erroTotal_n4w1 )\n",
        "  #print (\"Novo n4_w[1]: \",n4_w[1],end='\\n')\n",
        "  n4_w[2] = correcao(n4_w[2], aprendizagem, erroTotal_n4w2 )\n",
        "  #print (\"Novo n4_w[2]: \",n4_w[2],end='\\n')\n",
        "\n",
        "print (\"n3_y: \", n3_y,end='\\n')\n",
        "print (\"n4_y: \", n4_y,end='\\n')\n",
        "print (\"Novo n1_w[1]: \",n1_w[1],end='\\n')\n",
        "print (\"Novo n1_w[2]: \",n1_w[2],end='\\n')\n",
        "print (\"Novo n2_w[1]: \",n2_w[1],end='\\n')\n",
        "print (\"Novo n2_w[2]: \",n2_w[2],end='\\n')\n",
        "print (\"Novo n3_w[1]: \",n3_w[1],end='\\n')\n",
        "print (\"Novo n3_w[2]: \",n3_w[2],end='\\n')\n",
        "print (\"Novo n4_w[1]: \",n4_w[1],end='\\n')\n",
        "print (\"Novo n4_w[2]: \",n4_w[2],end='\\n')"
      ],
      "execution_count": null,
      "outputs": []
    },
    {
      "cell_type": "markdown",
      "metadata": {
        "id": "GVQgpct-6pHI"
      },
      "source": [
        "aula 22/10 -  criar dados de amostra\n"
      ]
    },
    {
      "cell_type": "code",
      "metadata": {
        "id": "Mo0AreU262lO"
      },
      "source": [
        "#Criar dados\n",
        "import numpy as np\n",
        "import matplotlib.pyplot as plt\n",
        "import csv\n",
        "import random\n",
        "\n",
        "qtde =1000\n",
        "\n",
        "VHmin = 3.0\n",
        "VLmax = 1.0\n",
        "\n",
        "dados = np.zeros([qtde,3])\n",
        "\n",
        "for index in range( 0, qtde-1):\n",
        "  A_LOW = random.uniform(0.0, VLmax)\n",
        "  A_HIGH = random.uniform( VHmin, 5.0)\n",
        "  B_LOW = random.uniform(0.0, VLmax)\n",
        "  B_HIGH =random.uniform(VHmin, 5.0)\n",
        "  valor = random.randint(0,3)\n",
        "\n",
        "  if (valor == 0):\n",
        "    dados[index,0]= A_LOW\n",
        "    dados[index,1]= B_LOW\n",
        "  elif (valor == 1):\n",
        "    dados[index,0]= A_LOW\n",
        "    dados[index,1]= B_HIGH\n",
        "    dados[index,2]= 1\n",
        "  elif ( valor == 2):\n",
        "    dados[index,0]= A_HIGH\n",
        "    dados[index,1]= B_LOW\n",
        "    dados[index,2]= 1\n",
        "  else:\n",
        "    dados[index,0]= A_HIGH\n",
        "    dados[index,1]= B_HIGH\n",
        "    dados[index,2]= 0\n",
        "    \n",
        "  f = open('dataset.csv', 'w', newline='')\n",
        "  with f:\n",
        "    writer = csv.writer(f)\n",
        "    row = [\"A\",\"B\",\"Saida\"]\n",
        "    writer.writerow( row )\n",
        "    for index in range( 0, qtde) :\n",
        "      row = dados[index]\n",
        "      writer.writerow( row )"
      ],
      "execution_count": null,
      "outputs": []
    },
    {
      "cell_type": "markdown",
      "metadata": {
        "id": "KCoN3n2T671W"
      },
      "source": [
        "Leitura dos dados"
      ]
    },
    {
      "cell_type": "code",
      "metadata": {
        "id": "GuN71YLb6-bu"
      },
      "source": [
        "import pandas as pd\n",
        "dados = pd.read_csv(\"dataset.csv\")\n",
        "dados.head()\n",
        "\n",
        "dados_entrada = dados.drop(\"Saida\", axis=1)\n",
        "dados_saida = dados[\"Saida\"]"
      ],
      "execution_count": null,
      "outputs": []
    },
    {
      "cell_type": "markdown",
      "metadata": {
        "id": "urClpCom7AlE"
      },
      "source": [
        "Divisão dos dados"
      ]
    },
    {
      "cell_type": "code",
      "metadata": {
        "id": "LFbnwgt_7Efy"
      },
      "source": [
        "]:\n",
        "from sklearn.model_selection import train_test_split\n",
        "\n",
        "dados_entrada_treino, dados_entrada_teste, dados_saida_treino,dados_saida_teste = train_test_split(dados_entrada, dados_saida, test_size=0.3,random_state = 42, shuffle=True)"
      ],
      "execution_count": null,
      "outputs": []
    },
    {
      "cell_type": "markdown",
      "metadata": {
        "id": "bHKyeQqc7G_X"
      },
      "source": [
        "SE OS DADOS DAS COLUNAS SER UMA DIFERENÇA DE VALORES EM ORDEM DE GRANDEZA, NECESSARIO UMA NORMALIZAÇÃO NOS VALORES"
      ]
    },
    {
      "cell_type": "code",
      "metadata": {
        "id": "H37SlEFq7V9W"
      },
      "source": [
        "from sklearn.preprocessing import StandardScaler\n",
        "\n",
        "normaliza = StandardScaler()\n",
        "\n",
        "normaliza = normaliza.fit(dados_entrada_treino)\n",
        "\n",
        "dados_entrada_treino = normaliza.transform(dados_entrada_treino)\n",
        "\n",
        "dados_entrada_teste = normaliza.transform(dados_entrada_teste)"
      ],
      "execution_count": null,
      "outputs": []
    },
    {
      "cell_type": "markdown",
      "metadata": {
        "id": "chHg2vgC7VFF"
      },
      "source": [
        "TREINO DA REDE\n"
      ]
    },
    {
      "cell_type": "code",
      "metadata": {
        "id": "L2eAoRMu7f7G"
      },
      "source": [
        "from sklearn.neural_network import MLPClassifier\n",
        "\n",
        "clf = MLPClassifier(activation='logistic', solver='lbfgs', max_iter = 500)\n",
        "clf = clf.fit(dados_entrada_treino, dados_saida_treino)"
      ],
      "execution_count": null,
      "outputs": []
    },
    {
      "cell_type": "markdown",
      "metadata": {
        "id": "w8xe7M7P7iW4"
      },
      "source": [
        "TESTE DA REDE"
      ]
    },
    {
      "cell_type": "code",
      "metadata": {
        "id": "Nk0TmXw07kTw"
      },
      "source": [
        "\n",
        "calculado = clf.predict(dados_entrada_teste)\n",
        "real = dados_saida_teste.values\n",
        "print(\"Calculado: \",calculado[0:5])\n",
        "print(\"Saida: \",real[0:5])\n"
      ],
      "execution_count": null,
      "outputs": []
    },
    {
      "cell_type": "markdown",
      "metadata": {
        "id": "it2DKqpM7nIc"
      },
      "source": [
        "VALIDAÇÃO DO TESTE DA REDE\n"
      ]
    },
    {
      "cell_type": "code",
      "metadata": {
        "id": "-MWLGe_F7pXe"
      },
      "source": [
        "from sklearn.metrics import accuracy_score\n",
        "\n",
        "calculado = clf.predict(dados_entrada_teste)\n",
        "real = dados_saida_teste.values\n",
        "\n",
        "print(\"Calculado: \",calculado[0:5])\n",
        "print(\"Saida: \",real[0:5])\n",
        "\n",
        "print(accuracy_score(real, calculado))"
      ],
      "execution_count": null,
      "outputs": []
    },
    {
      "cell_type": "markdown",
      "metadata": {
        "id": "ZOx5IcRb7uDM"
      },
      "source": [
        "TESTE REAL DA REDE"
      ]
    },
    {
      "cell_type": "code",
      "metadata": {
        "id": "RAmNAFhb7w54"
      },
      "source": [
        "\n",
        "#Executando o com os dados de entrada.\n",
        "\n",
        "calculado = clf.predict([[4.001,4.00]])\n",
        "print(calculado[0])\n",
        "\n",
        "calculado = clf.predict([[4.00,1.9]])\n",
        "print(calculado[0])"
      ],
      "execution_count": null,
      "outputs": []
    },
    {
      "cell_type": "markdown",
      "metadata": {
        "id": "QVtt_imF7zR0"
      },
      "source": [
        "exer: Crie os dados aleatórios para a cor vermelha e azul, conforme o gráfico num arquivo csv. Crie uma rede neural que classifique pela entrada da posição x1 e x2 , qual a cor prevista para a coordenada."
      ]
    },
    {
      "cell_type": "code",
      "metadata": {
        "id": "maFPuC6S7y71"
      },
      "source": [
        "#criar amostras\n",
        "import numpy as np\n",
        "import matplotlib.pyplot as plt\n",
        "import csv\n",
        "import random\n",
        "\n",
        "x1_range = np.linspace(-40,40,200)\n",
        "\n",
        "Ax1 = np.random.normal(3, 5, 300)\n",
        "Ax2 = np.random.normal(2, 3, 300)\n",
        "\n",
        "Bx1 = np.random.normal(12, 4, 500)\n",
        "Bx2 = np.random.normal(12, 3, 500)\n",
        "\n",
        "plt.plot(Ax1, Ax2,'ro',color = 'red')\n",
        "plt.plot(Bx1, Bx2,'ro',color = 'blue')\n",
        "plt.xlabel('x1')\n",
        "plt.ylabel('x2')\n",
        "\n",
        "\n",
        "f = open('dataset.csv', 'w', newline='')\n",
        "with f:\n",
        "  writer = csv.writer(f)\n",
        "  row = [\"X1\",\"X2\",\"Saida\"]\n",
        "  writer.writerow( row )\n",
        "  for index in range( 0, len( Ax1)):\n",
        "        row = str(Ax1[index]), str( Ax2[index]), 1\n",
        "        writer.writerow( row )\n",
        "  for index in range( 0, len( Bx1)) :\n",
        "        row = str(Bx1[index]),  str(Bx2[index]), 0\n",
        "        writer.writerow( row )"
      ],
      "execution_count": null,
      "outputs": []
    },
    {
      "cell_type": "code",
      "metadata": {
        "id": "4cQ0BFNd77re"
      },
      "source": [
        "#ler dados\n",
        "import pandas as pd\n",
        "\n",
        "dados = pd.read_csv(\"dataset.csv\")\n",
        "dados.head()\n",
        "\n",
        "dados_entrada = dados.drop(\"Saida\", axis=1)\n",
        "dados_saida = dados[\"Saida\"]"
      ],
      "execution_count": null,
      "outputs": []
    },
    {
      "cell_type": "code",
      "metadata": {
        "id": "tcA1IWAG7_MQ"
      },
      "source": [
        "#divisao dos dados\n",
        "from sklearn.model_selection import train_test_split\n",
        "\n",
        "dados_entrada_treino, dados_entrada_teste, dados_saida_treino,dados_saida_teste = train_test_split(dados_entrada, dados_saida, test_size=0.3,random_state = 42, shuffle=True)"
      ],
      "execution_count": null,
      "outputs": []
    },
    {
      "cell_type": "code",
      "metadata": {
        "id": "goVYAcsl8DuU"
      },
      "source": [
        "\n",
        "#Normalizacao dos dados\n",
        "from sklearn.preprocessing import StandardScaler\n",
        "\n",
        "normaliza = StandardScaler()\n",
        "\n",
        "normaliza = normaliza.fit(dados_entrada_treino)\n",
        "\n",
        "dados_entrada_treino = normaliza.transform(dados_entrada_treino)\n",
        "\n",
        "dados_entrada_teste = normaliza.transform(dados_entrada_teste)"
      ],
      "execution_count": null,
      "outputs": []
    },
    {
      "cell_type": "code",
      "metadata": {
        "id": "15Oktcil8GJy"
      },
      "source": [
        "#treino\n",
        "from sklearn.neural_network import MLPClassifier\n",
        "\n",
        "clf = MLPClassifier(activation='logistic', solver='lbfgs', max_iter = 500)\n",
        "clf = clf.fit(dados_entrada_treino, dados_saida_treino)"
      ],
      "execution_count": null,
      "outputs": []
    },
    {
      "cell_type": "code",
      "metadata": {
        "id": "qJbHClwb8Ji7"
      },
      "source": [
        "#teste\n",
        "calculado = clf.predict(dados_entrada_teste)\n",
        "real = dados_saida_teste.values\n",
        "print(\"Calculado: \",calculado[0:5])\n",
        "print(\"Saida: \",real[0:5])"
      ],
      "execution_count": null,
      "outputs": []
    },
    {
      "cell_type": "code",
      "metadata": {
        "id": "VvZVkYrW8MhU"
      },
      "source": [
        "#validação\n",
        "from sklearn.metrics import accuracy_score\n",
        "\n",
        "calculado = clf.predict(dados_entrada_teste)\n",
        "real = dados_saida_teste.values\n",
        "\n",
        "print(\"Calculado: \",calculado[0:5])\n",
        "print(\"Saida: \",real[0:5])\n",
        "\n",
        "print (accuracy_score(real, calculado))"
      ],
      "execution_count": null,
      "outputs": []
    },
    {
      "cell_type": "code",
      "metadata": {
        "id": "m-KdmWOT8RWT"
      },
      "source": [
        "#teste real\n",
        "calculado = clf.predict([[11,9]])\n",
        "\n",
        "if calculado[0] == 1:\n",
        "  print('Vermelho')\n",
        "else:\n",
        "  print('Azul')"
      ],
      "execution_count": null,
      "outputs": []
    },
    {
      "cell_type": "markdown",
      "metadata": {
        "id": "asnz2_TH8U5m"
      },
      "source": [
        "Criar uma rede que identicica se a imagem é um circulo ou um quadrilatero"
      ]
    },
    {
      "cell_type": "code",
      "metadata": {
        "id": "cSnG6e418Wyj"
      },
      "source": [
        "#criar amostras\n",
        "import numpy as np\n",
        "import matplotlib.pyplot as plt\n",
        "import csv\n",
        "import cv2\n",
        "\n",
        "img = np.zeros([100, 100, 3], np.uint8)\n",
        "img = cv2.circle(img, (49,49), 20, (255, 255, 255), -1)  #cria um circulo (centro), raio, (corRGB), espessura\n",
        "cv2.imwrite(\"circulo_1.png\",img)\n",
        "\n",
        "img2 = np.zeros([100, 100, 3], np.uint8)\n",
        "img2 = cv2.circle(img2, (25,35), 20, (255, 255, 255), -1)  #cria um circulo (centro), raio, (corRGB), espessura\n",
        "cv2.imwrite(\"circulo_2.png\",img2)\n",
        "\n",
        "img3 = np.zeros([100, 100, 3], np.uint8)\n",
        "img3 = cv2.circle(img3, (49,49), 50, (255, 255, 255), -1)  #cria um circulo (centro), raio, (corRGB), espessura\n",
        "cv2.imwrite(\"circulo_3.png\",img3)\n",
        "\n",
        "img4 = np.zeros([100, 100, 3], np.uint8)\n",
        "img4 = cv2.circle(img4, (65,24), 10, (255, 255, 255), -1)  #cria um circulo (centro), raio, (corRGB), espessura\n",
        "cv2.imwrite(\"circulo_4.png\",img4)\n",
        "\n",
        "img5 = np.zeros([100, 100, 3], np.uint8)\n",
        "img5 = cv2.circle(img5, (19,80), 18, (255, 255, 255), -1)  #cria um circulo (centro), raio, (corRGB), espessura\n",
        "cv2.imwrite(\"circulo_5.png\",img5)\n",
        "\n",
        "img6 = np.zeros([100, 100, 3], np.uint8)\n",
        "img6 = cv2.rectangle(img6, (10,10), (70,70), (255, 255, 255), -1) #cria um retangulo (pt1), (pt2), (corRGB), (espessura)\n",
        "cv2.imwrite(\"quadrilatero_6.png\",img6)\n",
        "\n",
        "img7 = np.zeros([100, 100, 3], np.uint8)\n",
        "img7 = cv2.rectangle(img7, (45,23), (86,94), (255, 255, 255), -1) #cria um retangulo (pt1), (pt2), (corRGB), (espessura)\n",
        "cv2.imwrite(\"quadrilatero_7.png\",img7)"
      ],
      "execution_count": null,
      "outputs": []
    },
    {
      "cell_type": "code",
      "metadata": {
        "id": "Uui2oYgN8bFq"
      },
      "source": [
        "#dataset\n",
        "import numpy as np\n",
        "import matplotlib.pyplot as plt\n",
        "import csv\n",
        "import cv2\n",
        "\n",
        "img1 = cv2.imread(\"circulo_1.png\")\n",
        "\n",
        "x = np.zeros ([1,10000])\n",
        "\n",
        "for py in range(0,100):\n",
        "  for px in range(0,100):\n",
        "    for i in range(0,10000):\n",
        "      x[0,i]= (img1[px][py][0])\n",
        "\n",
        "img2 = cv2.imread(\"circulo_2.png\")\n",
        "\n",
        "x2 = np.zeros ([1,10000])\n",
        "\n",
        "for py in range(0,100):\n",
        "  for px in range(0,100):\n",
        "    for i in range(0,10000):\n",
        "      x2[0,i]= (img2[px][py][0])\n",
        "\n",
        "img3 = cv2.imread(\"circulo_3.png\")\n",
        "\n",
        "x3 = np.zeros ([1,10000])\n",
        "\n",
        "for py in range(0,100):\n",
        "  for px in range(0,100):\n",
        "    for i in range(0,10000):\n",
        "      x2[0,i]= (img3[px][py][0])\n",
        "\n",
        "img4 = cv2.imread(\"circulo_4.png\")\n",
        "\n",
        "x4 = np.zeros ([1,10000])\n",
        "\n",
        "for py in range(0,100):\n",
        "  for px in range(0,100):\n",
        "    for i in range(0,10000):\n",
        "      x4[0,i]= (img4[px][py][0])\n",
        "\n",
        "img5 = cv2.imread(\"circulo_5.png\")\n",
        "\n",
        "x5 = np.zeros ([1,10000])\n",
        "\n",
        "for py in range(0,100):\n",
        "  for px in range(0,100):\n",
        "    for i in range(0,10000):\n",
        "      x5[0,i]= (img5[px][py][0])\n",
        "\n",
        "img6 = cv2.imread(\"quadrilatero_6.png\")\n",
        "\n",
        "x6 = np.zeros ([1,10000])\n",
        "\n",
        "for py in range(0,100):\n",
        "  for px in range(0,100):\n",
        "    for i in range(0,10000):\n",
        "      x6[0,i]= (img6[px][py][0])\n",
        "\n",
        "img7 = cv2.imread(\"quadrilatero_7.png\")\n",
        "\n",
        "x7 = np.zeros ([1,10000])\n",
        "\n",
        "for py in range(0,100):\n",
        "  for px in range(0,100):\n",
        "    for i in range(0,10000):\n",
        "      x7[0,i]= (img7[px][py][0])\n",
        "\n",
        "\n",
        "f = open('dataset.csv', 'w', newline='')\n",
        "with f:\n",
        " writer = csv.writer(f)\n",
        " for i in range(len(x)):\n",
        "   row = str(x[i]), 1\n",
        "   writer.writerow( row )\n",
        " for i in range(len(x)):\n",
        "   row = str(x2[i]), 1\n",
        "   writer.writerow( row )    \n",
        " for i in range(len(x)):\n",
        "   row = str(x3[i]), 1\n",
        "   writer.writerow( row )\n",
        " for i in range(len(x)):\n",
        "   row = str(x4[i]), 1\n",
        "   writer.writerow( row )\n",
        " for i in range(len(x)):\n",
        "   row = str(x5[i]), 1\n",
        "   writer.writerow( row )\n",
        " for i in range(len(x)):\n",
        "   row = str(x6[i]), 0\n",
        "   writer.writerow( row )\n",
        " for i in range(len(x)):\n",
        "   row = str(x7[i]), 0\n",
        "   writer.writerow( row )"
      ],
      "execution_count": null,
      "outputs": []
    },
    {
      "cell_type": "code",
      "metadata": {
        "id": "F7JESxH-8e6i"
      },
      "source": [
        "#ler dados\n",
        "\n",
        "dados = pd.read_csv(\"dataset.csv\")\n",
        "dados.head()\n",
        "\n",
        "dados_entrada = dados.drop(\"1\", axis=1)\n",
        "dados_saida = dados[\"1\"]"
      ],
      "execution_count": null,
      "outputs": []
    },
    {
      "cell_type": "code",
      "metadata": {
        "id": "05mqhNs98hTe"
      },
      "source": [
        "#divisao dos dados\n",
        "from sklearn.model_selection import train_test_split\n",
        "\n",
        "dados_entrada_treino, dados_entrada_teste, dados_saida_treino,dados_saida_teste = train_test_split(dados_entrada, dados_saida, test_size=0.3,random_state = 42, shuffle=True)"
      ],
      "execution_count": null,
      "outputs": []
    },
    {
      "cell_type": "code",
      "metadata": {
        "id": "s3DSeGl48lUT"
      },
      "source": [
        "#Normalizacao dos dados\n",
        "from sklearn.preprocessing import StandardScaler\n",
        "\n",
        "normaliza = StandardScaler()\n",
        "\n",
        "normaliza = normaliza.fit(dados_entrada_treino)\n",
        "\n",
        "dados_entrada_treino = normaliza.transform(dados_entrada_treino)\n",
        "\n",
        "dados_entrada_teste = normaliza.transform(dados_entrada_teste)"
      ],
      "execution_count": null,
      "outputs": []
    },
    {
      "cell_type": "code",
      "metadata": {
        "id": "dANBOnzC8otb"
      },
      "source": [
        "#treino\n",
        "from sklearn.neural_network import MLPClassifier\n",
        "\n",
        "clf = MLPClassifier(activation='logistic', solver='lbfgs', max_iter = 500)\n",
        "clf = clf.fit(dados_entrada_treino, dados_saida_treino)"
      ],
      "execution_count": null,
      "outputs": []
    },
    {
      "cell_type": "markdown",
      "metadata": {
        "id": "aIL-deao8rbc"
      },
      "source": [
        "exemplo aula 29"
      ]
    },
    {
      "cell_type": "code",
      "metadata": {
        "id": "Q3iXSOIO8yfK"
      },
      "source": [
        "import cv2\n",
        "from google.colab.patches import cv2_imshow\n",
        "import numpy as np\n",
        "import random\n",
        "amostras = 1000\n",
        "\n",
        "altura = 100\n",
        "largura = 100\n",
        "tamanho = altura * largura\n",
        "f = open(\"dataset_exe1.csv\", \"w\")\n",
        "data = \"\"\n",
        "for py in range(0,altura):\n",
        "  for px in range(0, largura):\n",
        "    data = data + \"P\"+str(py)+str(px)+\",\"\n",
        "data = data + \"Saida\\n\"\n",
        "f.write( data )\n",
        "\n",
        "for amostra in range(0,amostras):\n",
        "  img = np.zeros([altura,largura,3])\n",
        "  for py in range(0,altura):\n",
        "    for px in range(0, largura):\n",
        "      img[px][py][0] = 255   # cor azul\n",
        "      img[px][py][1] = 255   # cor verde\n",
        "      img[px][py][2] = 255   # cor vermelho\n",
        "\n",
        "  lado = random.randint(20, altura)\n",
        "  x_min = random.randint(0, largura - lado) \n",
        "  y_min = random.randint(0, altura - lado) \n",
        "  #cv2.rectangle(img,(0, 0),(100,100),(255,0,0),10)\n",
        "  cv2.rectangle(img,(x_min, y_min),(x_min+lado,y_min+lado),(0,0,0),-1)\n",
        "  #cv2_imshow(img)\n",
        "  data = \"\"\n",
        "  for py in range(0,altura):\n",
        "    for px in range(0, largura):\n",
        "      data = data + str(int(img[px][py][0]))+\",\"\n",
        "  data = data + \"0\\n\"\n",
        "\n",
        "  f.write( data )\n",
        "\n",
        "f.close()"
      ],
      "execution_count": null,
      "outputs": []
    },
    {
      "cell_type": "markdown",
      "metadata": {
        "id": "2KkaRNLM8zSd"
      },
      "source": [
        "exercicio para entrega:\n",
        "1.Criar um criador aleatório de padrões de quadrado, circulo e triângulo.\n",
        "\n",
        "2.Crie uma rede neural que classifique imagem do tipo quadrado, circulo e triângulo.\n"
      ]
    },
    {
      "cell_type": "code",
      "metadata": {
        "id": "NCl7qPK984xa"
      },
      "source": [
        "#criacao dos dados\n",
        "import cv2\n",
        "from google.colab.patches import cv2_imshow\n",
        "import numpy as np\n",
        "import random\n",
        "amostras = 1000\n",
        "\n",
        "altura = 100\n",
        "largura = 100\n",
        "tamanho = altura * largura\n",
        "\n",
        "f = open(\"dataset1.csv\", \"w\")\n",
        "data = \"\"\n",
        "for py in range(0,altura):\n",
        "  for px in range(0, largura):\n",
        "    data = data + \"P\"+str(py)+str(px)+\",\"\n",
        "data = data + \"Saida\\n\"\n",
        "f.write( data )\n",
        "\n",
        "for amostra in range(0,amostras):\n",
        "  img = np.zeros([altura,largura,3])\n",
        "  for py in range(0,altura):\n",
        "    for px in range(0, largura):\n",
        "      img[px][py][0] = 255   # cor azul\n",
        "      img[px][py][1] = 255   # cor verde\n",
        "      img[px][py][2] = 255   # cor vermelho\n",
        "\n",
        "  lado = random.randint(20, altura)\n",
        "  x_min = random.randint(0, largura - lado) \n",
        "  y_min = random.randint(0, altura - lado) \n",
        "  \n",
        "  cv2.rectangle(img,(x_min, y_min),(x_min+lado,y_min+lado),(0,0,0),-1)\n",
        "  #cv2_imshow(img)\n",
        "\n",
        "  data = \"\"\n",
        "  for py in range(0,altura):\n",
        "    for px in range(0, largura):\n",
        "      data = data + str(int(img[px][py][0]))+\",\"\n",
        "  data = data + \"0\\n\"\n",
        "\n",
        "  f.write(data)\n",
        "\n",
        "for amostra in range(0,amostras):\n",
        "  img = np.zeros([altura,largura,3])\n",
        "  for py in range(0,altura):\n",
        "    for px in range(0, largura):\n",
        "      img[px][py][0] = 255   # cor azul\n",
        "      img[px][py][1] = 255   # cor verde\n",
        "      img[px][py][2] = 255   # cor vermelho\n",
        "\n",
        "  centro_px = random.randint(20,(largura-20))\n",
        "  centro_py = random.randint(20,(altura-20))\n",
        "\n",
        "  distx = largura - centro_px\n",
        "  disty = altura - centro_py\n",
        "\n",
        "  D = [centro_px,centro_py,distx,disty]\n",
        "  #print(D)\n",
        "  #print(min(D))\n",
        "\n",
        "  raio = random.randint(0,(min(D)))\n",
        "  #print(raio)\n",
        "\n",
        "  cv2.circle(img, (centro_px,centro_py), raio, (0, 0, 0), -1)  #cria um circulo (centro), raio, (corRGB), espessura\n",
        "  #cv2_imshow(img)\n",
        "\n",
        "  data = \"\"\n",
        "  for py in range(0,altura):\n",
        "    for px in range(0, largura):\n",
        "      data = data + str(int(img[px][py][0]))+\",\"\n",
        "  data = data + \"1\\n\"\n",
        "\n",
        "  f.write(data)\n",
        "\n",
        "for amostra in range(0,amostras):\n",
        "  img = np.zeros([altura,largura,3])\n",
        "  for py in range(0,altura):\n",
        "    for px in range(0, largura):\n",
        "      img[px][py][0] = 255   # cor azul\n",
        "      img[px][py][1] = 255   # cor verde\n",
        "      img[px][py][2] = 255   # cor vermelho\n",
        "\n",
        "  pt1_x = random.randint(0,largura)\n",
        "  pt1_y = random.randint(0,altura)\n",
        "  pt2_x = random.randint(0,largura)\n",
        "  pt2_y = random.randint(0,altura)\n",
        "  pt3_x = random.randint(0,largura)\n",
        "  pt3_y = random.randint(0,altura)\n",
        "\n",
        "\n",
        "  pts = np.array([[pt1_x,pt1_y],[pt2_x,pt2_y],[pt3_x,pt3_y]], np.int32)\n",
        "  pts = pts.reshape((-1,1,2))\n",
        "  cv2.polylines(img,[pts],True,(0,0,0))\n",
        "  #cv2_imshow(img)\n",
        "  \n",
        "  data = \"\"\n",
        "  for py in range(0,altura):\n",
        "    for px in range(0, largura):\n",
        "      data = data + str(int(img[px][py][0]))+\",\"\n",
        "  data = data + \"2\\n\"\n",
        "\n",
        "  f.write(data)\n",
        "\n",
        "\n",
        "f.close()"
      ],
      "execution_count": 23,
      "outputs": []
    },
    {
      "cell_type": "code",
      "metadata": {
        "id": "hNq2qwhr95nN"
      },
      "source": [
        "#leitura\n",
        "import pandas as pd\n",
        "\n",
        "dados = pd.read_csv(\"dataset1.csv\")\n",
        "dados.head()\n",
        "\n",
        "dados_entrada = dados.drop(\"Saida\", axis=1)\n",
        "dados_saida = dados[\"Saida\"]"
      ],
      "execution_count": 24,
      "outputs": []
    },
    {
      "cell_type": "code",
      "metadata": {
        "id": "jnoeQRvy-KJX"
      },
      "source": [
        "#divisao\n",
        "\n",
        "from sklearn.model_selection import train_test_split\n",
        "\n",
        "dados_entrada_treino, dados_entrada_teste, dados_saida_treino,dados_saida_teste = train_test_split(dados_entrada, dados_saida, \n",
        "                                                                                                   test_size=0.3,random_state = 42, shuffle=True)"
      ],
      "execution_count": 25,
      "outputs": []
    },
    {
      "cell_type": "code",
      "metadata": {
        "id": "cmN-g_Ul-NEu"
      },
      "source": [
        "#normalização\n",
        "from sklearn.preprocessing import StandardScaler\n",
        "\n",
        "normaliza = StandardScaler()\n",
        "\n",
        "normaliza = normaliza.fit(dados_entrada_treino)\n",
        "\n",
        "dados_entrada_treino = normaliza.transform(dados_entrada_treino)\n",
        "\n",
        "dados_entrada_teste = normaliza.transform(dados_entrada_teste)"
      ],
      "execution_count": 27,
      "outputs": []
    },
    {
      "cell_type": "code",
      "metadata": {
        "id": "XDnn2GRT-SQM"
      },
      "source": [
        "#treino\n",
        "\n",
        "from sklearn.neural_network import MLPClassifier\n",
        "\n",
        "clf = MLPClassifier(activation='logistic', solver='lbfgs', max_iter = 500)\n",
        "clf = clf.fit(dados_entrada_treino, dados_saida_treino)"
      ],
      "execution_count": 28,
      "outputs": []
    },
    {
      "cell_type": "code",
      "metadata": {
        "id": "z949YmTf-V93",
        "outputId": "abdb50d3-973d-46ec-8358-bd768a381806",
        "colab": {
          "base_uri": "https://localhost:8080/"
        }
      },
      "source": [
        "#teste\n",
        "\n",
        "calculado = clf.predict(dados_entrada_teste)\n",
        "real = dados_saida_teste.values\n",
        "print(\"Calculado: \",calculado[0:5])\n",
        "print(\"Saida: \",real[0:5])"
      ],
      "execution_count": 29,
      "outputs": [
        {
          "output_type": "stream",
          "text": [
            "Calculado:  [1 0 1 0 1]\n",
            "Saida:  [1 1 1 0 2]\n"
          ],
          "name": "stdout"
        }
      ]
    },
    {
      "cell_type": "code",
      "metadata": {
        "id": "I2qX4hyG-csB",
        "outputId": "4913e44b-e068-495b-a568-8f9f93dea73f",
        "colab": {
          "base_uri": "https://localhost:8080/"
        }
      },
      "source": [
        "#validacao\n",
        "from sklearn.metrics import accuracy_score\n",
        "\n",
        "calculado = clf.predict(dados_entrada_teste)\n",
        "real = dados_saida_teste.values\n",
        "\n",
        "print(\"Calculado: \",calculado[0:5])\n",
        "print(\"Saida: \",real[0:5])\n",
        "\n",
        "print (accuracy_score(real, calculado))"
      ],
      "execution_count": 30,
      "outputs": [
        {
          "output_type": "stream",
          "text": [
            "Calculado:  [1 0 1 0 1]\n",
            "Saida:  [1 1 1 0 2]\n",
            "0.7444444444444445\n"
          ],
          "name": "stdout"
        }
      ]
    },
    {
      "cell_type": "code",
      "metadata": {
        "id": "CQWVNAF3-hcz",
        "outputId": "098476a5-1c38-4f38-a19d-cf8ebcac7b32",
        "colab": {
          "base_uri": "https://localhost:8080/",
          "height": 134
        }
      },
      "source": [
        "#teste real\n",
        "img = np.zeros([altura,largura,3])\n",
        "for py in range(0,altura):\n",
        "  for px in range(0, largura):\n",
        "    img[px][py][0] = 255   # cor azul\n",
        "    img[px][py][1] = 255   # cor verde\n",
        "    img[px][py][2] = 255   # cor vermelho\n",
        "\n",
        "#cv2.circle(img, (50,60), 21, (0, 0, 0), -1)  #cria um circulo (centro), raio, (corRGB), espessura\n",
        "\n",
        "#cv2.rectangle(img,(32, 45),(78,25),(0,0,0),-1)\n",
        "\n",
        "pts = np.array([[12,25],[35,14],[78,46]], np.int32)\n",
        "pts = pts.reshape((-1,1,2))\n",
        "cv2.polylines(img,[pts],True,(0,0,0))\n",
        "\n",
        "\n",
        "cv2_imshow(img)\n",
        "\n",
        "x=np.zeros([1,(altura*largura)])\n",
        "\n",
        "for py in range(0,altura):\n",
        "  for px in range(0,largura):\n",
        "    for i in range(0,(altura*largura)):\n",
        "      x[0,i]= (img[px][py][0])\n",
        "\n",
        "\n",
        "normaliza = StandardScaler()\n",
        "\n",
        "normaliza = normaliza.fit(x)\n",
        "\n",
        "X = normaliza.transform(x)\n",
        "\n",
        "calculado = clf.predict(X)\n",
        "\n",
        "if calculado[0] == 0:\n",
        "  print('quadrilatero')\n",
        "elif calculado[0] == 1:\n",
        "  print('circulo')\n",
        "else:\n",
        "  print('triangulo')"
      ],
      "execution_count": 31,
      "outputs": [
        {
          "output_type": "display_data",
          "data": {
            "image/png": "[encoded data removed]",
            "text/plain": [
              "<PIL.Image.Image image mode=RGB size=100x100 at 0x7F9214F0E278>"
            ]
          },
          "metadata": {
            "tags": []
          }
        },
        {
          "output_type": "stream",
          "text": [
            "quadrilatero\n"
          ],
          "name": "stdout"
        }
      ]
    }
  ]
}